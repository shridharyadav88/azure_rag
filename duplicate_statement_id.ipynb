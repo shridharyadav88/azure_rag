{
 "cells": [
  {
   "cell_type": "code",
   "execution_count": 1,
   "metadata": {},
   "outputs": [
    {
     "name": "stdout",
     "output_type": "stream",
     "text": [
      "new_data\n",
      "  statement_id data_column\n",
      "0          qwe  new_data_1\n",
      "1          abc  new_data_2\n",
      "2          xyz  new_data_3\n",
      "existing_data = \n",
      "  statement_id data_column\n",
      "0          qwe           W\n",
      "1          ewq           D\n",
      "2          rew           D\n",
      "3         trwe           D\n",
      "4           RW           C\n",
      "New data appended and Excel file updated successfully.\n"
     ]
    }
   ],
   "source": [
    "import pandas as pd\n",
    "import traceback\n",
    "\n",
    "def append_new_data_to_excel(file_path, new_data):\n",
    "    try:\n",
    "        # Read the existing Excel file\n",
    "        existing_data = pd.read_excel(file_path)\n",
    "        print(\"existing_data = \")\n",
    "        print(existing_data)\n",
    "        # Filter out rows with statement ids already present in the existing data\n",
    "        new_data_filtered = new_data[~new_data['statement_id'].isin(existing_data['statement_id'])]\n",
    "\n",
    "        # Append the filtered new data to the existing data\n",
    "        updated_data = pd.concat([existing_data, new_data_filtered], ignore_index=True)\n",
    "\n",
    "        # Save the updated data to the Excel file\n",
    "        updated_data.to_excel(file_path, index=False)\n",
    "        print(\"New data appended and Excel file updated successfully.\")\n",
    "    except Exception as e:\n",
    "        tb = traceback.TracebackException.from_exception(e)\n",
    "        print('Handled at stack lvl 0')\n",
    "        print(''.join(tb.stack.format()))\n",
    "\n",
    "\n",
    "# Example usage:\n",
    "file_path = \"C:\\\\Users\\\\shridhar\\\\Downloads\\\\log_excel_2.xlsx\"  # Replace with the path to your Excel file\n",
    "new_data = pd.DataFrame({\n",
    "    'statement_id': ['qwe', 'abc', 'xyz'],  # Example new statement ids\n",
    "    'data_column': ['new_data_1', 'new_data_2', 'new_data_3']  # Example new data\n",
    "})\n",
    "print(\"new_data\")\n",
    "print(new_data)\n",
    "append_new_data_to_excel(file_path, new_data)"
   ]
  },
  {
   "cell_type": "code",
   "execution_count": 2,
   "metadata": {},
   "outputs": [
    {
     "name": "stdout",
     "output_type": "stream",
     "text": [
      "existing_data = \n",
      "  statement_id data_column\n",
      "0          qwe           W\n",
      "1          ewq           D\n",
      "2          rew           D\n",
      "3         trwe           D\n",
      "4           RW           C\n",
      "5          abc  new_data_2\n",
      "6          xyz  new_data_3\n"
     ]
    }
   ],
   "source": [
    "existing_data = pd.read_excel(file_path)\n",
    "print(\"existing_data = \")\n",
    "print(existing_data) "
   ]
  },
  {
   "cell_type": "code",
   "execution_count": null,
   "metadata": {},
   "outputs": [],
   "source": []
  }
 ],
 "metadata": {
  "kernelspec": {
   "display_name": "env_azure",
   "language": "python",
   "name": "python3"
  },
  "language_info": {
   "codemirror_mode": {
    "name": "ipython",
    "version": 3
   },
   "file_extension": ".py",
   "mimetype": "text/x-python",
   "name": "python",
   "nbconvert_exporter": "python",
   "pygments_lexer": "ipython3",
   "version": "3.10.11"
  }
 },
 "nbformat": 4,
 "nbformat_minor": 2
}
